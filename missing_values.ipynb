{
 "cells": [
  {
   "cell_type": "code",
   "execution_count": 1,
   "id": "15c5d1ed",
   "metadata": {},
   "outputs": [],
   "source": [
    "import pandas as pd\n",
    "import numpy as np\n",
    "import seaborn as sns\n",
    "import datetime\n",
    "from matplotlib import pyplot as plt\n",
    "import plotly.express as px"
   ]
  },
  {
   "cell_type": "code",
   "execution_count": 2,
   "id": "eec84f5d",
   "metadata": {},
   "outputs": [],
   "source": [
    "df = pd.read_csv('eda_missing_data_dataset1.csv')"
   ]
  },
  {
   "cell_type": "code",
   "execution_count": 3,
   "id": "807b3988",
   "metadata": {},
   "outputs": [
    {
     "data": {
      "text/html": [
       "<div>\n",
       "<style scoped>\n",
       "    .dataframe tbody tr th:only-of-type {\n",
       "        vertical-align: middle;\n",
       "    }\n",
       "\n",
       "    .dataframe tbody tr th {\n",
       "        vertical-align: top;\n",
       "    }\n",
       "\n",
       "    .dataframe thead th {\n",
       "        text-align: right;\n",
       "    }\n",
       "</style>\n",
       "<table border=\"1\" class=\"dataframe\">\n",
       "  <thead>\n",
       "    <tr style=\"text-align: right;\">\n",
       "      <th></th>\n",
       "      <th>date</th>\n",
       "      <th>center_point_geom</th>\n",
       "      <th>longitude</th>\n",
       "      <th>latitude</th>\n",
       "      <th>number_of_strikes</th>\n",
       "    </tr>\n",
       "  </thead>\n",
       "  <tbody>\n",
       "    <tr>\n",
       "      <th>0</th>\n",
       "      <td>2018-08-01</td>\n",
       "      <td>POINT(-81.6 22.6)</td>\n",
       "      <td>-81.6</td>\n",
       "      <td>22.6</td>\n",
       "      <td>48</td>\n",
       "    </tr>\n",
       "    <tr>\n",
       "      <th>1</th>\n",
       "      <td>2018-08-01</td>\n",
       "      <td>POINT(-81.1 22.6)</td>\n",
       "      <td>-81.1</td>\n",
       "      <td>22.6</td>\n",
       "      <td>32</td>\n",
       "    </tr>\n",
       "    <tr>\n",
       "      <th>2</th>\n",
       "      <td>2018-08-01</td>\n",
       "      <td>POINT(-80.9 22.6)</td>\n",
       "      <td>-80.9</td>\n",
       "      <td>22.6</td>\n",
       "      <td>118</td>\n",
       "    </tr>\n",
       "    <tr>\n",
       "      <th>3</th>\n",
       "      <td>2018-08-01</td>\n",
       "      <td>POINT(-80.8 22.6)</td>\n",
       "      <td>-80.8</td>\n",
       "      <td>22.6</td>\n",
       "      <td>69</td>\n",
       "    </tr>\n",
       "    <tr>\n",
       "      <th>4</th>\n",
       "      <td>2018-08-01</td>\n",
       "      <td>POINT(-98.4 22.8)</td>\n",
       "      <td>-98.4</td>\n",
       "      <td>22.8</td>\n",
       "      <td>44</td>\n",
       "    </tr>\n",
       "  </tbody>\n",
       "</table>\n",
       "</div>"
      ],
      "text/plain": [
       "         date  center_point_geom  longitude  latitude  number_of_strikes\n",
       "0  2018-08-01  POINT(-81.6 22.6)      -81.6      22.6                 48\n",
       "1  2018-08-01  POINT(-81.1 22.6)      -81.1      22.6                 32\n",
       "2  2018-08-01  POINT(-80.9 22.6)      -80.9      22.6                118\n",
       "3  2018-08-01  POINT(-80.8 22.6)      -80.8      22.6                 69\n",
       "4  2018-08-01  POINT(-98.4 22.8)      -98.4      22.8                 44"
      ]
     },
     "execution_count": 3,
     "metadata": {},
     "output_type": "execute_result"
    }
   ],
   "source": [
    "df.head()"
   ]
  },
  {
   "cell_type": "code",
   "execution_count": 4,
   "id": "b27a5739",
   "metadata": {},
   "outputs": [
    {
     "data": {
      "text/plain": [
       "(717530, 5)"
      ]
     },
     "execution_count": 4,
     "metadata": {},
     "output_type": "execute_result"
    }
   ],
   "source": [
    "df.shape"
   ]
  },
  {
   "cell_type": "code",
   "execution_count": 5,
   "id": "9ce3226c",
   "metadata": {},
   "outputs": [
    {
     "data": {
      "text/html": [
       "<div>\n",
       "<style scoped>\n",
       "    .dataframe tbody tr th:only-of-type {\n",
       "        vertical-align: middle;\n",
       "    }\n",
       "\n",
       "    .dataframe tbody tr th {\n",
       "        vertical-align: top;\n",
       "    }\n",
       "\n",
       "    .dataframe thead th {\n",
       "        text-align: right;\n",
       "    }\n",
       "</style>\n",
       "<table border=\"1\" class=\"dataframe\">\n",
       "  <thead>\n",
       "    <tr style=\"text-align: right;\">\n",
       "      <th></th>\n",
       "      <th>date</th>\n",
       "      <th>zip_code</th>\n",
       "      <th>city</th>\n",
       "      <th>state</th>\n",
       "      <th>state_code</th>\n",
       "      <th>center_point_geom</th>\n",
       "      <th>number_of_strikes</th>\n",
       "    </tr>\n",
       "  </thead>\n",
       "  <tbody>\n",
       "    <tr>\n",
       "      <th>0</th>\n",
       "      <td>2018-08-08</td>\n",
       "      <td>3281</td>\n",
       "      <td>Weare</td>\n",
       "      <td>New Hampshire</td>\n",
       "      <td>NH</td>\n",
       "      <td>POINT(-71.7 43.1)</td>\n",
       "      <td>1</td>\n",
       "    </tr>\n",
       "    <tr>\n",
       "      <th>1</th>\n",
       "      <td>2018-08-14</td>\n",
       "      <td>6488</td>\n",
       "      <td>Heritage Village CDP</td>\n",
       "      <td>Connecticut</td>\n",
       "      <td>CT</td>\n",
       "      <td>POINT(-73.2 41.5)</td>\n",
       "      <td>3</td>\n",
       "    </tr>\n",
       "    <tr>\n",
       "      <th>2</th>\n",
       "      <td>2018-08-16</td>\n",
       "      <td>97759</td>\n",
       "      <td>Sisters city, Black Butte Ranch CDP</td>\n",
       "      <td>Oregon</td>\n",
       "      <td>OR</td>\n",
       "      <td>POINT(-121.4 44.3)</td>\n",
       "      <td>3</td>\n",
       "    </tr>\n",
       "    <tr>\n",
       "      <th>3</th>\n",
       "      <td>2018-08-18</td>\n",
       "      <td>6776</td>\n",
       "      <td>New Milford CDP</td>\n",
       "      <td>Connecticut</td>\n",
       "      <td>CT</td>\n",
       "      <td>POINT(-73.4 41.6)</td>\n",
       "      <td>48</td>\n",
       "    </tr>\n",
       "    <tr>\n",
       "      <th>4</th>\n",
       "      <td>2018-08-08</td>\n",
       "      <td>1077</td>\n",
       "      <td>Southwick</td>\n",
       "      <td>Massachusetts</td>\n",
       "      <td>MA</td>\n",
       "      <td>POINT(-72.8 42)</td>\n",
       "      <td>2</td>\n",
       "    </tr>\n",
       "  </tbody>\n",
       "</table>\n",
       "</div>"
      ],
      "text/plain": [
       "         date  zip_code                                 city          state  \\\n",
       "0  2018-08-08      3281                                Weare  New Hampshire   \n",
       "1  2018-08-14      6488                 Heritage Village CDP    Connecticut   \n",
       "2  2018-08-16     97759  Sisters city, Black Butte Ranch CDP         Oregon   \n",
       "3  2018-08-18      6776                      New Milford CDP    Connecticut   \n",
       "4  2018-08-08      1077                            Southwick  Massachusetts   \n",
       "\n",
       "  state_code   center_point_geom  number_of_strikes  \n",
       "0         NH   POINT(-71.7 43.1)                  1  \n",
       "1         CT   POINT(-73.2 41.5)                  3  \n",
       "2         OR  POINT(-121.4 44.3)                  3  \n",
       "3         CT   POINT(-73.4 41.6)                 48  \n",
       "4         MA     POINT(-72.8 42)                  2  "
      ]
     },
     "execution_count": 5,
     "metadata": {},
     "output_type": "execute_result"
    }
   ],
   "source": [
    "df_zip = pd.read_csv('eda_missing_data_dataset2.csv')\n",
    "df_zip.head()"
   ]
  },
  {
   "cell_type": "code",
   "execution_count": 6,
   "id": "8c5322db",
   "metadata": {},
   "outputs": [
    {
     "data": {
      "text/plain": [
       "(323700, 7)"
      ]
     },
     "execution_count": 6,
     "metadata": {},
     "output_type": "execute_result"
    }
   ],
   "source": [
    "df_zip.shape"
   ]
  },
  {
   "cell_type": "code",
   "execution_count": 7,
   "id": "96c29c49",
   "metadata": {},
   "outputs": [],
   "source": [
    "df_joined = df.merge(df_zip, how='left', on = ['date', 'center_point_geom'])"
   ]
  },
  {
   "cell_type": "code",
   "execution_count": 8,
   "id": "c79e3f8b",
   "metadata": {},
   "outputs": [
    {
     "data": {
      "text/html": [
       "<div>\n",
       "<style scoped>\n",
       "    .dataframe tbody tr th:only-of-type {\n",
       "        vertical-align: middle;\n",
       "    }\n",
       "\n",
       "    .dataframe tbody tr th {\n",
       "        vertical-align: top;\n",
       "    }\n",
       "\n",
       "    .dataframe thead th {\n",
       "        text-align: right;\n",
       "    }\n",
       "</style>\n",
       "<table border=\"1\" class=\"dataframe\">\n",
       "  <thead>\n",
       "    <tr style=\"text-align: right;\">\n",
       "      <th></th>\n",
       "      <th>date</th>\n",
       "      <th>center_point_geom</th>\n",
       "      <th>longitude</th>\n",
       "      <th>latitude</th>\n",
       "      <th>number_of_strikes_x</th>\n",
       "      <th>zip_code</th>\n",
       "      <th>city</th>\n",
       "      <th>state</th>\n",
       "      <th>state_code</th>\n",
       "      <th>number_of_strikes_y</th>\n",
       "    </tr>\n",
       "  </thead>\n",
       "  <tbody>\n",
       "    <tr>\n",
       "      <th>0</th>\n",
       "      <td>2018-08-01</td>\n",
       "      <td>POINT(-81.6 22.6)</td>\n",
       "      <td>-81.6</td>\n",
       "      <td>22.6</td>\n",
       "      <td>48</td>\n",
       "      <td>NaN</td>\n",
       "      <td>NaN</td>\n",
       "      <td>NaN</td>\n",
       "      <td>NaN</td>\n",
       "      <td>NaN</td>\n",
       "    </tr>\n",
       "    <tr>\n",
       "      <th>1</th>\n",
       "      <td>2018-08-01</td>\n",
       "      <td>POINT(-81.1 22.6)</td>\n",
       "      <td>-81.1</td>\n",
       "      <td>22.6</td>\n",
       "      <td>32</td>\n",
       "      <td>NaN</td>\n",
       "      <td>NaN</td>\n",
       "      <td>NaN</td>\n",
       "      <td>NaN</td>\n",
       "      <td>NaN</td>\n",
       "    </tr>\n",
       "    <tr>\n",
       "      <th>2</th>\n",
       "      <td>2018-08-01</td>\n",
       "      <td>POINT(-80.9 22.6)</td>\n",
       "      <td>-80.9</td>\n",
       "      <td>22.6</td>\n",
       "      <td>118</td>\n",
       "      <td>NaN</td>\n",
       "      <td>NaN</td>\n",
       "      <td>NaN</td>\n",
       "      <td>NaN</td>\n",
       "      <td>NaN</td>\n",
       "    </tr>\n",
       "    <tr>\n",
       "      <th>3</th>\n",
       "      <td>2018-08-01</td>\n",
       "      <td>POINT(-80.8 22.6)</td>\n",
       "      <td>-80.8</td>\n",
       "      <td>22.6</td>\n",
       "      <td>69</td>\n",
       "      <td>NaN</td>\n",
       "      <td>NaN</td>\n",
       "      <td>NaN</td>\n",
       "      <td>NaN</td>\n",
       "      <td>NaN</td>\n",
       "    </tr>\n",
       "    <tr>\n",
       "      <th>4</th>\n",
       "      <td>2018-08-01</td>\n",
       "      <td>POINT(-98.4 22.8)</td>\n",
       "      <td>-98.4</td>\n",
       "      <td>22.8</td>\n",
       "      <td>44</td>\n",
       "      <td>NaN</td>\n",
       "      <td>NaN</td>\n",
       "      <td>NaN</td>\n",
       "      <td>NaN</td>\n",
       "      <td>NaN</td>\n",
       "    </tr>\n",
       "  </tbody>\n",
       "</table>\n",
       "</div>"
      ],
      "text/plain": [
       "         date  center_point_geom  longitude  latitude  number_of_strikes_x  \\\n",
       "0  2018-08-01  POINT(-81.6 22.6)      -81.6      22.6                   48   \n",
       "1  2018-08-01  POINT(-81.1 22.6)      -81.1      22.6                   32   \n",
       "2  2018-08-01  POINT(-80.9 22.6)      -80.9      22.6                  118   \n",
       "3  2018-08-01  POINT(-80.8 22.6)      -80.8      22.6                   69   \n",
       "4  2018-08-01  POINT(-98.4 22.8)      -98.4      22.8                   44   \n",
       "\n",
       "   zip_code city state state_code  number_of_strikes_y  \n",
       "0       NaN  NaN   NaN        NaN                  NaN  \n",
       "1       NaN  NaN   NaN        NaN                  NaN  \n",
       "2       NaN  NaN   NaN        NaN                  NaN  \n",
       "3       NaN  NaN   NaN        NaN                  NaN  \n",
       "4       NaN  NaN   NaN        NaN                  NaN  "
      ]
     },
     "execution_count": 8,
     "metadata": {},
     "output_type": "execute_result"
    }
   ],
   "source": [
    "df_joined.head()"
   ]
  },
  {
   "cell_type": "code",
   "execution_count": 9,
   "id": "2e82dbae",
   "metadata": {},
   "outputs": [
    {
     "data": {
      "text/html": [
       "<div>\n",
       "<style scoped>\n",
       "    .dataframe tbody tr th:only-of-type {\n",
       "        vertical-align: middle;\n",
       "    }\n",
       "\n",
       "    .dataframe tbody tr th {\n",
       "        vertical-align: top;\n",
       "    }\n",
       "\n",
       "    .dataframe thead th {\n",
       "        text-align: right;\n",
       "    }\n",
       "</style>\n",
       "<table border=\"1\" class=\"dataframe\">\n",
       "  <thead>\n",
       "    <tr style=\"text-align: right;\">\n",
       "      <th></th>\n",
       "      <th>longitude</th>\n",
       "      <th>latitude</th>\n",
       "      <th>number_of_strikes_x</th>\n",
       "      <th>zip_code</th>\n",
       "      <th>number_of_strikes_y</th>\n",
       "    </tr>\n",
       "  </thead>\n",
       "  <tbody>\n",
       "    <tr>\n",
       "      <th>count</th>\n",
       "      <td>717530.000000</td>\n",
       "      <td>717530.000000</td>\n",
       "      <td>717530.000000</td>\n",
       "      <td>323700.000000</td>\n",
       "      <td>323700.000000</td>\n",
       "    </tr>\n",
       "    <tr>\n",
       "      <th>mean</th>\n",
       "      <td>-90.875445</td>\n",
       "      <td>33.328572</td>\n",
       "      <td>21.637081</td>\n",
       "      <td>57931.958996</td>\n",
       "      <td>25.410587</td>\n",
       "    </tr>\n",
       "    <tr>\n",
       "      <th>std</th>\n",
       "      <td>13.648429</td>\n",
       "      <td>7.938831</td>\n",
       "      <td>48.029525</td>\n",
       "      <td>22277.327411</td>\n",
       "      <td>57.421824</td>\n",
       "    </tr>\n",
       "    <tr>\n",
       "      <th>min</th>\n",
       "      <td>-133.900000</td>\n",
       "      <td>16.600000</td>\n",
       "      <td>1.000000</td>\n",
       "      <td>1002.000000</td>\n",
       "      <td>1.000000</td>\n",
       "    </tr>\n",
       "    <tr>\n",
       "      <th>25%</th>\n",
       "      <td>-102.800000</td>\n",
       "      <td>26.900000</td>\n",
       "      <td>3.000000</td>\n",
       "      <td>38260.750000</td>\n",
       "      <td>3.000000</td>\n",
       "    </tr>\n",
       "    <tr>\n",
       "      <th>50%</th>\n",
       "      <td>-90.300000</td>\n",
       "      <td>33.200000</td>\n",
       "      <td>6.000000</td>\n",
       "      <td>59212.500000</td>\n",
       "      <td>8.000000</td>\n",
       "    </tr>\n",
       "    <tr>\n",
       "      <th>75%</th>\n",
       "      <td>-80.900000</td>\n",
       "      <td>39.400000</td>\n",
       "      <td>21.000000</td>\n",
       "      <td>78642.000000</td>\n",
       "      <td>24.000000</td>\n",
       "    </tr>\n",
       "    <tr>\n",
       "      <th>max</th>\n",
       "      <td>-43.800000</td>\n",
       "      <td>51.700000</td>\n",
       "      <td>2211.000000</td>\n",
       "      <td>99402.000000</td>\n",
       "      <td>2211.000000</td>\n",
       "    </tr>\n",
       "  </tbody>\n",
       "</table>\n",
       "</div>"
      ],
      "text/plain": [
       "           longitude       latitude  number_of_strikes_x       zip_code  \\\n",
       "count  717530.000000  717530.000000        717530.000000  323700.000000   \n",
       "mean      -90.875445      33.328572            21.637081   57931.958996   \n",
       "std        13.648429       7.938831            48.029525   22277.327411   \n",
       "min      -133.900000      16.600000             1.000000    1002.000000   \n",
       "25%      -102.800000      26.900000             3.000000   38260.750000   \n",
       "50%       -90.300000      33.200000             6.000000   59212.500000   \n",
       "75%       -80.900000      39.400000            21.000000   78642.000000   \n",
       "max       -43.800000      51.700000          2211.000000   99402.000000   \n",
       "\n",
       "       number_of_strikes_y  \n",
       "count        323700.000000  \n",
       "mean             25.410587  \n",
       "std              57.421824  \n",
       "min               1.000000  \n",
       "25%               3.000000  \n",
       "50%               8.000000  \n",
       "75%              24.000000  \n",
       "max            2211.000000  "
      ]
     },
     "execution_count": 9,
     "metadata": {},
     "output_type": "execute_result"
    }
   ],
   "source": [
    "df_joined.describe()"
   ]
  },
  {
   "cell_type": "code",
   "execution_count": 10,
   "id": "723ba584",
   "metadata": {},
   "outputs": [],
   "source": [
    "df_null_geo = df_joined[pd.isnull(df_joined.state_code)]"
   ]
  },
  {
   "cell_type": "code",
   "execution_count": 11,
   "id": "3097b6c9",
   "metadata": {},
   "outputs": [
    {
     "data": {
      "text/plain": [
       "(393830, 10)"
      ]
     },
     "execution_count": 11,
     "metadata": {},
     "output_type": "execute_result"
    }
   ],
   "source": [
    "df_null_geo.shape\n"
   ]
  },
  {
   "cell_type": "code",
   "execution_count": 12,
   "id": "3a975f01",
   "metadata": {},
   "outputs": [
    {
     "name": "stdout",
     "output_type": "stream",
     "text": [
      "<class 'pandas.core.frame.DataFrame'>\n",
      "RangeIndex: 717530 entries, 0 to 717529\n",
      "Data columns (total 10 columns):\n",
      " #   Column               Non-Null Count   Dtype  \n",
      "---  ------               --------------   -----  \n",
      " 0   date                 717530 non-null  object \n",
      " 1   center_point_geom    717530 non-null  object \n",
      " 2   longitude            717530 non-null  float64\n",
      " 3   latitude             717530 non-null  float64\n",
      " 4   number_of_strikes_x  717530 non-null  int64  \n",
      " 5   zip_code             323700 non-null  float64\n",
      " 6   city                 323700 non-null  object \n",
      " 7   state                323700 non-null  object \n",
      " 8   state_code           323700 non-null  object \n",
      " 9   number_of_strikes_y  323700 non-null  float64\n",
      "dtypes: float64(4), int64(1), object(5)\n",
      "memory usage: 54.7+ MB\n"
     ]
    }
   ],
   "source": [
    "df_joined.info()"
   ]
  },
  {
   "cell_type": "code",
   "execution_count": 13,
   "id": "1a23dd0a",
   "metadata": {},
   "outputs": [
    {
     "data": {
      "text/html": [
       "<div>\n",
       "<style scoped>\n",
       "    .dataframe tbody tr th:only-of-type {\n",
       "        vertical-align: middle;\n",
       "    }\n",
       "\n",
       "    .dataframe tbody tr th {\n",
       "        vertical-align: top;\n",
       "    }\n",
       "\n",
       "    .dataframe thead th {\n",
       "        text-align: right;\n",
       "    }\n",
       "</style>\n",
       "<table border=\"1\" class=\"dataframe\">\n",
       "  <thead>\n",
       "    <tr style=\"text-align: right;\">\n",
       "      <th></th>\n",
       "      <th>latitude</th>\n",
       "      <th>longitude</th>\n",
       "      <th>number_of_strikes_x</th>\n",
       "    </tr>\n",
       "  </thead>\n",
       "  <tbody>\n",
       "    <tr>\n",
       "      <th>0</th>\n",
       "      <td>22.4</td>\n",
       "      <td>-84.2</td>\n",
       "      <td>3841</td>\n",
       "    </tr>\n",
       "    <tr>\n",
       "      <th>1</th>\n",
       "      <td>22.9</td>\n",
       "      <td>-82.9</td>\n",
       "      <td>3184</td>\n",
       "    </tr>\n",
       "    <tr>\n",
       "      <th>2</th>\n",
       "      <td>22.4</td>\n",
       "      <td>-84.3</td>\n",
       "      <td>2999</td>\n",
       "    </tr>\n",
       "    <tr>\n",
       "      <th>3</th>\n",
       "      <td>22.9</td>\n",
       "      <td>-83.0</td>\n",
       "      <td>2754</td>\n",
       "    </tr>\n",
       "    <tr>\n",
       "      <th>4</th>\n",
       "      <td>22.5</td>\n",
       "      <td>-84.1</td>\n",
       "      <td>2746</td>\n",
       "    </tr>\n",
       "    <tr>\n",
       "      <th>5</th>\n",
       "      <td>22.5</td>\n",
       "      <td>-84.2</td>\n",
       "      <td>2738</td>\n",
       "    </tr>\n",
       "    <tr>\n",
       "      <th>6</th>\n",
       "      <td>22.3</td>\n",
       "      <td>-81.0</td>\n",
       "      <td>2680</td>\n",
       "    </tr>\n",
       "    <tr>\n",
       "      <th>7</th>\n",
       "      <td>22.9</td>\n",
       "      <td>-82.4</td>\n",
       "      <td>2652</td>\n",
       "    </tr>\n",
       "    <tr>\n",
       "      <th>8</th>\n",
       "      <td>22.9</td>\n",
       "      <td>-82.3</td>\n",
       "      <td>2618</td>\n",
       "    </tr>\n",
       "    <tr>\n",
       "      <th>9</th>\n",
       "      <td>22.3</td>\n",
       "      <td>-84.3</td>\n",
       "      <td>2551</td>\n",
       "    </tr>\n",
       "  </tbody>\n",
       "</table>\n",
       "</div>"
      ],
      "text/plain": [
       "   latitude  longitude  number_of_strikes_x\n",
       "0      22.4      -84.2                 3841\n",
       "1      22.9      -82.9                 3184\n",
       "2      22.4      -84.3                 2999\n",
       "3      22.9      -83.0                 2754\n",
       "4      22.5      -84.1                 2746\n",
       "5      22.5      -84.2                 2738\n",
       "6      22.3      -81.0                 2680\n",
       "7      22.9      -82.4                 2652\n",
       "8      22.9      -82.3                 2618\n",
       "9      22.3      -84.3                 2551"
      ]
     },
     "execution_count": 13,
     "metadata": {},
     "output_type": "execute_result"
    }
   ],
   "source": [
    "top_missing = df_null_geo[['latitude', 'longitude', 'number_of_strikes_x']].groupby(['latitude', 'longitude']).sum().sort_values(by='number_of_strikes_x', ascending=False).reset_index()\n",
    "top_missing.head(10)"
   ]
  },
  {
   "cell_type": "code",
   "execution_count": null,
   "id": "c7a0cf3b",
   "metadata": {},
   "outputs": [
    {
     "data": {
      "application/vnd.plotly.v1+json": {
       "config": {
        "plotlyServerURL": "https://plot.ly"
       },
       "data": [
        {
         "geo": "geo",
         "hovertemplate": "number_of_strikes_x=%{marker.size}<br>latitude=%{lat}<br>longitude=%{lon}<extra></extra>",
         "lat": {
          "bdata": "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",
          "dtype": "f8"
         },
         "legendgroup": "",
         "lon": {
          "bdata": "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",
          "dtype": "f8"
         },
         "marker": {
          "color": "#636efa",
          "size": {
           "bdata": "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",
           "dtype": "i2"
          },
          "sizemode": "area",
          "sizeref": 9.6025,
          "symbol": "circle"
         },
         "mode": "markers",
         "name": "",
         "showlegend": false,
         "type": "scattergeo"
        }
       ],
       "layout": {
        "geo": {
         "center": {},
         "countrycolor": "rgb(217, 217, 217)",
         "domain": {
          "x": [
           0,
           1
          ],
          "y": [
           0,
           1
          ]
         },
         "lakecolor": "rgb(255, 255, 255)",
         "landcolor": "rgb(243, 243, 243)",
         "projection": {
          "type": "albers usa"
         },
         "scope": "usa",
         "showlakes": true,
         "showland": true,
         "subunitcolor": "rgb(217, 217, 217)"
        },
        "legend": {
         "itemsizing": "constant",
         "tracegroupgap": 0
        },
        "margin": {
         "t": 60
        },
        "template": {
         "data": {
          "bar": [
           {
            "error_x": {
             "color": "#2a3f5f"
            },
            "error_y": {
             "color": "#2a3f5f"
            },
            "marker": {
             "line": {
              "color": "#E5ECF6",
              "width": 0.5
             },
             "pattern": {
              "fillmode": "overlay",
              "size": 10,
              "solidity": 0.2
             }
            },
            "type": "bar"
           }
          ],
          "barpolar": [
           {
            "marker": {
             "line": {
              "color": "#E5ECF6",
              "width": 0.5
             },
             "pattern": {
              "fillmode": "overlay",
              "size": 10,
              "solidity": 0.2
             }
            },
            "type": "barpolar"
           }
          ],
          "carpet": [
           {
            "aaxis": {
             "endlinecolor": "#2a3f5f",
             "gridcolor": "white",
             "linecolor": "white",
             "minorgridcolor": "white",
             "startlinecolor": "#2a3f5f"
            },
            "baxis": {
             "endlinecolor": "#2a3f5f",
             "gridcolor": "white",
             "linecolor": "white",
             "minorgridcolor": "white",
             "startlinecolor": "#2a3f5f"
            },
            "type": "carpet"
           }
          ],
          "choropleth": [
           {
            "colorbar": {
             "outlinewidth": 0,
             "ticks": ""
            },
            "type": "choropleth"
           }
          ],
          "contour": [
           {
            "colorbar": {
             "outlinewidth": 0,
             "ticks": ""
            },
            "colorscale": [
             [
              0,
              "#0d0887"
             ],
             [
              0.1111111111111111,
              "#46039f"
             ],
             [
              0.2222222222222222,
              "#7201a8"
             ],
             [
              0.3333333333333333,
              "#9c179e"
             ],
             [
              0.4444444444444444,
              "#bd3786"
             ],
             [
              0.5555555555555556,
              "#d8576b"
             ],
             [
              0.6666666666666666,
              "#ed7953"
             ],
             [
              0.7777777777777778,
              "#fb9f3a"
             ],
             [
              0.8888888888888888,
              "#fdca26"
             ],
             [
              1,
              "#f0f921"
             ]
            ],
            "type": "contour"
           }
          ],
          "contourcarpet": [
           {
            "colorbar": {
             "outlinewidth": 0,
             "ticks": ""
            },
            "type": "contourcarpet"
           }
          ],
          "heatmap": [
           {
            "colorbar": {
             "outlinewidth": 0,
             "ticks": ""
            },
            "colorscale": [
             [
              0,
              "#0d0887"
             ],
             [
              0.1111111111111111,
              "#46039f"
             ],
             [
              0.2222222222222222,
              "#7201a8"
             ],
             [
              0.3333333333333333,
              "#9c179e"
             ],
             [
              0.4444444444444444,
              "#bd3786"
             ],
             [
              0.5555555555555556,
              "#d8576b"
             ],
             [
              0.6666666666666666,
              "#ed7953"
             ],
             [
              0.7777777777777778,
              "#fb9f3a"
             ],
             [
              0.8888888888888888,
              "#fdca26"
             ],
             [
              1,
              "#f0f921"
             ]
            ],
            "type": "heatmap"
           }
          ],
          "histogram": [
           {
            "marker": {
             "pattern": {
              "fillmode": "overlay",
              "size": 10,
              "solidity": 0.2
             }
            },
            "type": "histogram"
           }
          ],
          "histogram2d": [
           {
            "colorbar": {
             "outlinewidth": 0,
             "ticks": ""
            },
            "colorscale": [
             [
              0,
              "#0d0887"
             ],
             [
              0.1111111111111111,
              "#46039f"
             ],
             [
              0.2222222222222222,
              "#7201a8"
             ],
             [
              0.3333333333333333,
              "#9c179e"
             ],
             [
              0.4444444444444444,
              "#bd3786"
             ],
             [
              0.5555555555555556,
              "#d8576b"
             ],
             [
              0.6666666666666666,
              "#ed7953"
             ],
             [
              0.7777777777777778,
              "#fb9f3a"
             ],
             [
              0.8888888888888888,
              "#fdca26"
             ],
             [
              1,
              "#f0f921"
             ]
            ],
            "type": "histogram2d"
           }
          ],
          "histogram2dcontour": [
           {
            "colorbar": {
             "outlinewidth": 0,
             "ticks": ""
            },
            "colorscale": [
             [
              0,
              "#0d0887"
             ],
             [
              0.1111111111111111,
              "#46039f"
             ],
             [
              0.2222222222222222,
              "#7201a8"
             ],
             [
              0.3333333333333333,
              "#9c179e"
             ],
             [
              0.4444444444444444,
              "#bd3786"
             ],
             [
              0.5555555555555556,
              "#d8576b"
             ],
             [
              0.6666666666666666,
              "#ed7953"
             ],
             [
              0.7777777777777778,
              "#fb9f3a"
             ],
             [
              0.8888888888888888,
              "#fdca26"
             ],
             [
              1,
              "#f0f921"
             ]
            ],
            "type": "histogram2dcontour"
           }
          ],
          "mesh3d": [
           {
            "colorbar": {
             "outlinewidth": 0,
             "ticks": ""
            },
            "type": "mesh3d"
           }
          ],
          "parcoords": [
           {
            "line": {
             "colorbar": {
              "outlinewidth": 0,
              "ticks": ""
             }
            },
            "type": "parcoords"
           }
          ],
          "pie": [
           {
            "automargin": true,
            "type": "pie"
           }
          ],
          "scatter": [
           {
            "fillpattern": {
             "fillmode": "overlay",
             "size": 10,
             "solidity": 0.2
            },
            "type": "scatter"
           }
          ],
          "scatter3d": [
           {
            "line": {
             "colorbar": {
              "outlinewidth": 0,
              "ticks": ""
             }
            },
            "marker": {
             "colorbar": {
              "outlinewidth": 0,
              "ticks": ""
             }
            },
            "type": "scatter3d"
           }
          ],
          "scattercarpet": [
           {
            "marker": {
             "colorbar": {
              "outlinewidth": 0,
              "ticks": ""
             }
            },
            "type": "scattercarpet"
           }
          ],
          "scattergeo": [
           {
            "marker": {
             "colorbar": {
              "outlinewidth": 0,
              "ticks": ""
             }
            },
            "type": "scattergeo"
           }
          ],
          "scattergl": [
           {
            "marker": {
             "colorbar": {
              "outlinewidth": 0,
              "ticks": ""
             }
            },
            "type": "scattergl"
           }
          ],
          "scattermap": [
           {
            "marker": {
             "colorbar": {
              "outlinewidth": 0,
              "ticks": ""
             }
            },
            "type": "scattermap"
           }
          ],
          "scattermapbox": [
           {
            "marker": {
             "colorbar": {
              "outlinewidth": 0,
              "ticks": ""
             }
            },
            "type": "scattermapbox"
           }
          ],
          "scatterpolar": [
           {
            "marker": {
             "colorbar": {
              "outlinewidth": 0,
              "ticks": ""
             }
            },
            "type": "scatterpolar"
           }
          ],
          "scatterpolargl": [
           {
            "marker": {
             "colorbar": {
              "outlinewidth": 0,
              "ticks": ""
             }
            },
            "type": "scatterpolargl"
           }
          ],
          "scatterternary": [
           {
            "marker": {
             "colorbar": {
              "outlinewidth": 0,
              "ticks": ""
             }
            },
            "type": "scatterternary"
           }
          ],
          "surface": [
           {
            "colorbar": {
             "outlinewidth": 0,
             "ticks": ""
            },
            "colorscale": [
             [
              0,
              "#0d0887"
             ],
             [
              0.1111111111111111,
              "#46039f"
             ],
             [
              0.2222222222222222,
              "#7201a8"
             ],
             [
              0.3333333333333333,
              "#9c179e"
             ],
             [
              0.4444444444444444,
              "#bd3786"
             ],
             [
              0.5555555555555556,
              "#d8576b"
             ],
             [
              0.6666666666666666,
              "#ed7953"
             ],
             [
              0.7777777777777778,
              "#fb9f3a"
             ],
             [
              0.8888888888888888,
              "#fdca26"
             ],
             [
              1,
              "#f0f921"
             ]
            ],
            "type": "surface"
           }
          ],
          "table": [
           {
            "cells": {
             "fill": {
              "color": "#EBF0F8"
             },
             "line": {
              "color": "white"
             }
            },
            "header": {
             "fill": {
              "color": "#C8D4E3"
             },
             "line": {
              "color": "white"
             }
            },
            "type": "table"
           }
          ]
         },
         "layout": {
          "annotationdefaults": {
           "arrowcolor": "#2a3f5f",
           "arrowhead": 0,
           "arrowwidth": 1
          },
          "autotypenumbers": "strict",
          "coloraxis": {
           "colorbar": {
            "outlinewidth": 0,
            "ticks": ""
           }
          },
          "colorscale": {
           "diverging": [
            [
             0,
             "#8e0152"
            ],
            [
             0.1,
             "#c51b7d"
            ],
            [
             0.2,
             "#de77ae"
            ],
            [
             0.3,
             "#f1b6da"
            ],
            [
             0.4,
             "#fde0ef"
            ],
            [
             0.5,
             "#f7f7f7"
            ],
            [
             0.6,
             "#e6f5d0"
            ],
            [
             0.7,
             "#b8e186"
            ],
            [
             0.8,
             "#7fbc41"
            ],
            [
             0.9,
             "#4d9221"
            ],
            [
             1,
             "#276419"
            ]
           ],
           "sequential": [
            [
             0,
             "#0d0887"
            ],
            [
             0.1111111111111111,
             "#46039f"
            ],
            [
             0.2222222222222222,
             "#7201a8"
            ],
            [
             0.3333333333333333,
             "#9c179e"
            ],
            [
             0.4444444444444444,
             "#bd3786"
            ],
            [
             0.5555555555555556,
             "#d8576b"
            ],
            [
             0.6666666666666666,
             "#ed7953"
            ],
            [
             0.7777777777777778,
             "#fb9f3a"
            ],
            [
             0.8888888888888888,
             "#fdca26"
            ],
            [
             1,
             "#f0f921"
            ]
           ],
           "sequentialminus": [
            [
             0,
             "#0d0887"
            ],
            [
             0.1111111111111111,
             "#46039f"
            ],
            [
             0.2222222222222222,
             "#7201a8"
            ],
            [
             0.3333333333333333,
             "#9c179e"
            ],
            [
             0.4444444444444444,
             "#bd3786"
            ],
            [
             0.5555555555555556,
             "#d8576b"
            ],
            [
             0.6666666666666666,
             "#ed7953"
            ],
            [
             0.7777777777777778,
             "#fb9f3a"
            ],
            [
             0.8888888888888888,
             "#fdca26"
            ],
            [
             1,
             "#f0f921"
            ]
           ]
          },
          "colorway": [
           "#636efa",
           "#EF553B",
           "#00cc96",
           "#ab63fa",
           "#FFA15A",
           "#19d3f3",
           "#FF6692",
           "#B6E880",
           "#FF97FF",
           "#FECB52"
          ],
          "font": {
           "color": "#2a3f5f"
          },
          "geo": {
           "bgcolor": "white",
           "lakecolor": "white",
           "landcolor": "#E5ECF6",
           "showlakes": true,
           "showland": true,
           "subunitcolor": "white"
          },
          "hoverlabel": {
           "align": "left"
          },
          "hovermode": "closest",
          "mapbox": {
           "style": "light"
          },
          "paper_bgcolor": "white",
          "plot_bgcolor": "#E5ECF6",
          "polar": {
           "angularaxis": {
            "gridcolor": "white",
            "linecolor": "white",
            "ticks": ""
           },
           "bgcolor": "#E5ECF6",
           "radialaxis": {
            "gridcolor": "white",
            "linecolor": "white",
            "ticks": ""
           }
          },
          "scene": {
           "xaxis": {
            "backgroundcolor": "#E5ECF6",
            "gridcolor": "white",
            "gridwidth": 2,
            "linecolor": "white",
            "showbackground": true,
            "ticks": "",
            "zerolinecolor": "white"
           },
           "yaxis": {
            "backgroundcolor": "#E5ECF6",
            "gridcolor": "white",
            "gridwidth": 2,
            "linecolor": "white",
            "showbackground": true,
            "ticks": "",
            "zerolinecolor": "white"
           },
           "zaxis": {
            "backgroundcolor": "#E5ECF6",
            "gridcolor": "white",
            "gridwidth": 2,
            "linecolor": "white",
            "showbackground": true,
            "ticks": "",
            "zerolinecolor": "white"
           }
          },
          "shapedefaults": {
           "line": {
            "color": "#2a3f5f"
           }
          },
          "ternary": {
           "aaxis": {
            "gridcolor": "white",
            "linecolor": "white",
            "ticks": ""
           },
           "baxis": {
            "gridcolor": "white",
            "linecolor": "white",
            "ticks": ""
           },
           "bgcolor": "#E5ECF6",
           "caxis": {
            "gridcolor": "white",
            "linecolor": "white",
            "ticks": ""
           }
          },
          "title": {
           "x": 0.05
          },
          "xaxis": {
           "automargin": true,
           "gridcolor": "white",
           "linecolor": "white",
           "ticks": "",
           "title": {
            "standoff": 15
           },
           "zerolinecolor": "white",
           "zerolinewidth": 2
          },
          "yaxis": {
           "automargin": true,
           "gridcolor": "white",
           "linecolor": "white",
           "ticks": "",
           "title": {
            "standoff": 15
           },
           "zerolinecolor": "white",
           "zerolinewidth": 2
          }
         }
        },
        "title": {
         "font": {
          "size": 20
         },
         "text": "Missing_Data",
         "x": 0.5,
         "y": 0.95
        }
       }
      }
     },
     "metadata": {},
     "output_type": "display_data"
    }
   ],
   "source": [
    "fig = px.scatter_geo(top_missing[top_missing.number_of_strikes_x >= 300],\n",
    "                     \n",
    "                        lat='latitude',\n",
    "                        lon='longitude',\n",
    "                        size='number_of_strikes_x',)\n",
    "fig.update_layout(\n",
    "    title_text = 'Missing_Data',\n",
    "    title_x = 0.5,\n",
    "    title_y = 0.95,\n",
    "    title_font_size = 20,\n",
    "    geo=dict(\n",
    "        scope='usa',\n",
    "        showland=True,\n",
    "        landcolor='rgb(243, 243, 243)',\n",
    "        subunitcolor='rgb(217, 217, 217)',\n",
    "        countrycolor='rgb(217, 217, 217)',\n",
    "        showlakes=True,\n",
    "        lakecolor='rgb(255, 255, 255)',\n",
    "        projection_type='albers usa',\n",
    "    ),\n",
    "    \n",
    "    \n",
    ")\n",
    "fig.show()"
   ]
  },
  {
   "cell_type": "code",
   "execution_count": null,
   "id": "a786aa86",
   "metadata": {},
   "outputs": [],
   "source": []
  },
  {
   "cell_type": "code",
   "execution_count": null,
   "id": "ab421e34",
   "metadata": {},
   "outputs": [],
   "source": []
  },
  {
   "cell_type": "code",
   "execution_count": null,
   "id": "ec0660e6",
   "metadata": {},
   "outputs": [],
   "source": []
  }
 ],
 "metadata": {
  "kernelspec": {
   "display_name": "Python 3",
   "language": "python",
   "name": "python3"
  },
  "language_info": {
   "codemirror_mode": {
    "name": "ipython",
    "version": 3
   },
   "file_extension": ".py",
   "mimetype": "text/x-python",
   "name": "python",
   "nbconvert_exporter": "python",
   "pygments_lexer": "ipython3",
   "version": "3.13.2"
  }
 },
 "nbformat": 4,
 "nbformat_minor": 5
}
